{
 "cells": [
  {
   "cell_type": "markdown",
   "metadata": {},
   "source": [
    "# Heart Disease UCI\n",
    "The following notebook contains the solution of Heart Disease UCI Kaggle problem (https://www.kaggle.com/ronitf/heart-disease-uci)"
   ]
  },
  {
   "cell_type": "markdown",
   "metadata": {},
   "source": [
    "# TODO: \n",
    "* Improve data preprocessing\n",
    "* Perform more in-depth data analysis\n",
    "* Improve model tuning\n",
    "* DESCRIPTIONS! "
   ]
  },
  {
   "cell_type": "code",
   "execution_count": 1,
   "metadata": {},
   "outputs": [
    {
     "name": "stderr",
     "output_type": "stream",
     "text": [
      "Using TensorFlow backend.\n"
     ]
    }
   ],
   "source": [
    "import pandas as pd \n",
    "import numpy as np\n",
    "\n",
    "import matplotlib.pyplot as plt\n",
    "import seaborn as sns\n",
    "\n",
    "from sklearn.model_selection import train_test_split\n",
    "from sklearn.preprocessing import StandardScaler\n",
    "from sklearn.metrics import confusion_matrix \n",
    "from sklearn.ensemble import RandomForestClassifier\n",
    "from sklearn.model_selection import GridSearchCV\n",
    "from sklearn.linear_model import LogisticRegression\n",
    "from sklearn import svm\n",
    "from sklearn.metrics import confusion_matrix, accuracy_score\n",
    "from keras.wrappers.scikit_learn import KerasClassifier\n",
    "\n",
    "import keras\n",
    "from keras.models import Sequential, load_model\n",
    "from keras.layers import Convolution2D, MaxPooling2D, Flatten, Dense, Dropout, Activation\n",
    "from keras.preprocessing import image\n",
    "\n",
    "\n",
    "%matplotlib inline"
   ]
  },
  {
   "cell_type": "markdown",
   "metadata": {},
   "source": [
    "## Data Loading"
   ]
  },
  {
   "cell_type": "code",
   "execution_count": 2,
   "metadata": {},
   "outputs": [],
   "source": [
    "df = pd.read_csv('heart.csv')"
   ]
  },
  {
   "cell_type": "markdown",
   "metadata": {},
   "source": [
    "# Overview of the dataset\n",
    "Let's perform initial analysis of the dataset."
   ]
  },
  {
   "cell_type": "markdown",
   "metadata": {},
   "source": [
    "Dataset consists of 303 rows and 14 columns.  \n",
    "Columns: \n",
    "1. age - the age of the persion\n",
    "2. sex - person's sex (1 - male, 0 - female)\n",
    "3. cp - type of the chest pain person suffered from (values 1-4) \n",
    "4. trestbps - resting blood pressure\n",
    "* chol - \n",
    "* fbs - \n",
    "* restecg - \n",
    "* thalach - person maximum heart rate\n",
    "* exang - \n",
    "* oldpeak - \n",
    "* slope - \n",
    "* ca - \n",
    "* thal - blood disorder - thalassemia \n",
    "14. target - presence of heart disease (1 - yes, 0 - no)"
   ]
  },
  {
   "cell_type": "code",
   "execution_count": 3,
   "metadata": {
    "scrolled": false
   },
   "outputs": [
    {
     "name": "stdout",
     "output_type": "stream",
     "text": [
      "<class 'pandas.core.frame.DataFrame'>\n",
      "RangeIndex: 303 entries, 0 to 302\n",
      "Data columns (total 14 columns):\n",
      "age         303 non-null int64\n",
      "sex         303 non-null int64\n",
      "cp          303 non-null int64\n",
      "trestbps    303 non-null int64\n",
      "chol        303 non-null int64\n",
      "fbs         303 non-null int64\n",
      "restecg     303 non-null int64\n",
      "thalach     303 non-null int64\n",
      "exang       303 non-null int64\n",
      "oldpeak     303 non-null float64\n",
      "slope       303 non-null int64\n",
      "ca          303 non-null int64\n",
      "thal        303 non-null int64\n",
      "target      303 non-null int64\n",
      "dtypes: float64(1), int64(13)\n",
      "memory usage: 33.2 KB\n"
     ]
    }
   ],
   "source": [
    "df.info()"
   ]
  },
  {
   "cell_type": "code",
   "execution_count": 4,
   "metadata": {},
   "outputs": [
    {
     "data": {
      "text/html": [
       "<div>\n",
       "<style scoped>\n",
       "    .dataframe tbody tr th:only-of-type {\n",
       "        vertical-align: middle;\n",
       "    }\n",
       "\n",
       "    .dataframe tbody tr th {\n",
       "        vertical-align: top;\n",
       "    }\n",
       "\n",
       "    .dataframe thead th {\n",
       "        text-align: right;\n",
       "    }\n",
       "</style>\n",
       "<table border=\"1\" class=\"dataframe\">\n",
       "  <thead>\n",
       "    <tr style=\"text-align: right;\">\n",
       "      <th></th>\n",
       "      <th>age</th>\n",
       "      <th>sex</th>\n",
       "      <th>cp</th>\n",
       "      <th>trestbps</th>\n",
       "      <th>chol</th>\n",
       "      <th>fbs</th>\n",
       "      <th>restecg</th>\n",
       "      <th>thalach</th>\n",
       "      <th>exang</th>\n",
       "      <th>oldpeak</th>\n",
       "      <th>slope</th>\n",
       "      <th>ca</th>\n",
       "      <th>thal</th>\n",
       "      <th>target</th>\n",
       "    </tr>\n",
       "  </thead>\n",
       "  <tbody>\n",
       "    <tr>\n",
       "      <th>0</th>\n",
       "      <td>63</td>\n",
       "      <td>1</td>\n",
       "      <td>3</td>\n",
       "      <td>145</td>\n",
       "      <td>233</td>\n",
       "      <td>1</td>\n",
       "      <td>0</td>\n",
       "      <td>150</td>\n",
       "      <td>0</td>\n",
       "      <td>2.3</td>\n",
       "      <td>0</td>\n",
       "      <td>0</td>\n",
       "      <td>1</td>\n",
       "      <td>1</td>\n",
       "    </tr>\n",
       "    <tr>\n",
       "      <th>1</th>\n",
       "      <td>37</td>\n",
       "      <td>1</td>\n",
       "      <td>2</td>\n",
       "      <td>130</td>\n",
       "      <td>250</td>\n",
       "      <td>0</td>\n",
       "      <td>1</td>\n",
       "      <td>187</td>\n",
       "      <td>0</td>\n",
       "      <td>3.5</td>\n",
       "      <td>0</td>\n",
       "      <td>0</td>\n",
       "      <td>2</td>\n",
       "      <td>1</td>\n",
       "    </tr>\n",
       "    <tr>\n",
       "      <th>2</th>\n",
       "      <td>41</td>\n",
       "      <td>0</td>\n",
       "      <td>1</td>\n",
       "      <td>130</td>\n",
       "      <td>204</td>\n",
       "      <td>0</td>\n",
       "      <td>0</td>\n",
       "      <td>172</td>\n",
       "      <td>0</td>\n",
       "      <td>1.4</td>\n",
       "      <td>2</td>\n",
       "      <td>0</td>\n",
       "      <td>2</td>\n",
       "      <td>1</td>\n",
       "    </tr>\n",
       "    <tr>\n",
       "      <th>3</th>\n",
       "      <td>56</td>\n",
       "      <td>1</td>\n",
       "      <td>1</td>\n",
       "      <td>120</td>\n",
       "      <td>236</td>\n",
       "      <td>0</td>\n",
       "      <td>1</td>\n",
       "      <td>178</td>\n",
       "      <td>0</td>\n",
       "      <td>0.8</td>\n",
       "      <td>2</td>\n",
       "      <td>0</td>\n",
       "      <td>2</td>\n",
       "      <td>1</td>\n",
       "    </tr>\n",
       "    <tr>\n",
       "      <th>4</th>\n",
       "      <td>57</td>\n",
       "      <td>0</td>\n",
       "      <td>0</td>\n",
       "      <td>120</td>\n",
       "      <td>354</td>\n",
       "      <td>0</td>\n",
       "      <td>1</td>\n",
       "      <td>163</td>\n",
       "      <td>1</td>\n",
       "      <td>0.6</td>\n",
       "      <td>2</td>\n",
       "      <td>0</td>\n",
       "      <td>2</td>\n",
       "      <td>1</td>\n",
       "    </tr>\n",
       "  </tbody>\n",
       "</table>\n",
       "</div>"
      ],
      "text/plain": [
       "   age  sex  cp  trestbps  chol  fbs  restecg  thalach  exang  oldpeak  slope  \\\n",
       "0   63    1   3       145   233    1        0      150      0      2.3      0   \n",
       "1   37    1   2       130   250    0        1      187      0      3.5      0   \n",
       "2   41    0   1       130   204    0        0      172      0      1.4      2   \n",
       "3   56    1   1       120   236    0        1      178      0      0.8      2   \n",
       "4   57    0   0       120   354    0        1      163      1      0.6      2   \n",
       "\n",
       "   ca  thal  target  \n",
       "0   0     1       1  \n",
       "1   0     2       1  \n",
       "2   0     2       1  \n",
       "3   0     2       1  \n",
       "4   0     2       1  "
      ]
     },
     "execution_count": 4,
     "metadata": {},
     "output_type": "execute_result"
    }
   ],
   "source": [
    "df.head()"
   ]
  },
  {
   "cell_type": "code",
   "execution_count": 5,
   "metadata": {
    "scrolled": false
   },
   "outputs": [
    {
     "data": {
      "text/html": [
       "<div>\n",
       "<style scoped>\n",
       "    .dataframe tbody tr th:only-of-type {\n",
       "        vertical-align: middle;\n",
       "    }\n",
       "\n",
       "    .dataframe tbody tr th {\n",
       "        vertical-align: top;\n",
       "    }\n",
       "\n",
       "    .dataframe thead th {\n",
       "        text-align: right;\n",
       "    }\n",
       "</style>\n",
       "<table border=\"1\" class=\"dataframe\">\n",
       "  <thead>\n",
       "    <tr style=\"text-align: right;\">\n",
       "      <th></th>\n",
       "      <th>age</th>\n",
       "      <th>sex</th>\n",
       "      <th>cp</th>\n",
       "      <th>trestbps</th>\n",
       "      <th>chol</th>\n",
       "      <th>fbs</th>\n",
       "      <th>restecg</th>\n",
       "      <th>thalach</th>\n",
       "      <th>exang</th>\n",
       "      <th>oldpeak</th>\n",
       "      <th>slope</th>\n",
       "      <th>ca</th>\n",
       "      <th>thal</th>\n",
       "      <th>target</th>\n",
       "    </tr>\n",
       "  </thead>\n",
       "  <tbody>\n",
       "    <tr>\n",
       "      <th>count</th>\n",
       "      <td>303.000000</td>\n",
       "      <td>303.000000</td>\n",
       "      <td>303.000000</td>\n",
       "      <td>303.000000</td>\n",
       "      <td>303.000000</td>\n",
       "      <td>303.000000</td>\n",
       "      <td>303.000000</td>\n",
       "      <td>303.000000</td>\n",
       "      <td>303.000000</td>\n",
       "      <td>303.000000</td>\n",
       "      <td>303.000000</td>\n",
       "      <td>303.000000</td>\n",
       "      <td>303.000000</td>\n",
       "      <td>303.000000</td>\n",
       "    </tr>\n",
       "    <tr>\n",
       "      <th>mean</th>\n",
       "      <td>54.366337</td>\n",
       "      <td>0.683168</td>\n",
       "      <td>0.966997</td>\n",
       "      <td>131.623762</td>\n",
       "      <td>246.264026</td>\n",
       "      <td>0.148515</td>\n",
       "      <td>0.528053</td>\n",
       "      <td>149.646865</td>\n",
       "      <td>0.326733</td>\n",
       "      <td>1.039604</td>\n",
       "      <td>1.399340</td>\n",
       "      <td>0.729373</td>\n",
       "      <td>2.313531</td>\n",
       "      <td>0.544554</td>\n",
       "    </tr>\n",
       "    <tr>\n",
       "      <th>std</th>\n",
       "      <td>9.082101</td>\n",
       "      <td>0.466011</td>\n",
       "      <td>1.032052</td>\n",
       "      <td>17.538143</td>\n",
       "      <td>51.830751</td>\n",
       "      <td>0.356198</td>\n",
       "      <td>0.525860</td>\n",
       "      <td>22.905161</td>\n",
       "      <td>0.469794</td>\n",
       "      <td>1.161075</td>\n",
       "      <td>0.616226</td>\n",
       "      <td>1.022606</td>\n",
       "      <td>0.612277</td>\n",
       "      <td>0.498835</td>\n",
       "    </tr>\n",
       "    <tr>\n",
       "      <th>min</th>\n",
       "      <td>29.000000</td>\n",
       "      <td>0.000000</td>\n",
       "      <td>0.000000</td>\n",
       "      <td>94.000000</td>\n",
       "      <td>126.000000</td>\n",
       "      <td>0.000000</td>\n",
       "      <td>0.000000</td>\n",
       "      <td>71.000000</td>\n",
       "      <td>0.000000</td>\n",
       "      <td>0.000000</td>\n",
       "      <td>0.000000</td>\n",
       "      <td>0.000000</td>\n",
       "      <td>0.000000</td>\n",
       "      <td>0.000000</td>\n",
       "    </tr>\n",
       "    <tr>\n",
       "      <th>25%</th>\n",
       "      <td>47.500000</td>\n",
       "      <td>0.000000</td>\n",
       "      <td>0.000000</td>\n",
       "      <td>120.000000</td>\n",
       "      <td>211.000000</td>\n",
       "      <td>0.000000</td>\n",
       "      <td>0.000000</td>\n",
       "      <td>133.500000</td>\n",
       "      <td>0.000000</td>\n",
       "      <td>0.000000</td>\n",
       "      <td>1.000000</td>\n",
       "      <td>0.000000</td>\n",
       "      <td>2.000000</td>\n",
       "      <td>0.000000</td>\n",
       "    </tr>\n",
       "    <tr>\n",
       "      <th>50%</th>\n",
       "      <td>55.000000</td>\n",
       "      <td>1.000000</td>\n",
       "      <td>1.000000</td>\n",
       "      <td>130.000000</td>\n",
       "      <td>240.000000</td>\n",
       "      <td>0.000000</td>\n",
       "      <td>1.000000</td>\n",
       "      <td>153.000000</td>\n",
       "      <td>0.000000</td>\n",
       "      <td>0.800000</td>\n",
       "      <td>1.000000</td>\n",
       "      <td>0.000000</td>\n",
       "      <td>2.000000</td>\n",
       "      <td>1.000000</td>\n",
       "    </tr>\n",
       "    <tr>\n",
       "      <th>75%</th>\n",
       "      <td>61.000000</td>\n",
       "      <td>1.000000</td>\n",
       "      <td>2.000000</td>\n",
       "      <td>140.000000</td>\n",
       "      <td>274.500000</td>\n",
       "      <td>0.000000</td>\n",
       "      <td>1.000000</td>\n",
       "      <td>166.000000</td>\n",
       "      <td>1.000000</td>\n",
       "      <td>1.600000</td>\n",
       "      <td>2.000000</td>\n",
       "      <td>1.000000</td>\n",
       "      <td>3.000000</td>\n",
       "      <td>1.000000</td>\n",
       "    </tr>\n",
       "    <tr>\n",
       "      <th>max</th>\n",
       "      <td>77.000000</td>\n",
       "      <td>1.000000</td>\n",
       "      <td>3.000000</td>\n",
       "      <td>200.000000</td>\n",
       "      <td>564.000000</td>\n",
       "      <td>1.000000</td>\n",
       "      <td>2.000000</td>\n",
       "      <td>202.000000</td>\n",
       "      <td>1.000000</td>\n",
       "      <td>6.200000</td>\n",
       "      <td>2.000000</td>\n",
       "      <td>4.000000</td>\n",
       "      <td>3.000000</td>\n",
       "      <td>1.000000</td>\n",
       "    </tr>\n",
       "  </tbody>\n",
       "</table>\n",
       "</div>"
      ],
      "text/plain": [
       "              age         sex          cp    trestbps        chol         fbs  \\\n",
       "count  303.000000  303.000000  303.000000  303.000000  303.000000  303.000000   \n",
       "mean    54.366337    0.683168    0.966997  131.623762  246.264026    0.148515   \n",
       "std      9.082101    0.466011    1.032052   17.538143   51.830751    0.356198   \n",
       "min     29.000000    0.000000    0.000000   94.000000  126.000000    0.000000   \n",
       "25%     47.500000    0.000000    0.000000  120.000000  211.000000    0.000000   \n",
       "50%     55.000000    1.000000    1.000000  130.000000  240.000000    0.000000   \n",
       "75%     61.000000    1.000000    2.000000  140.000000  274.500000    0.000000   \n",
       "max     77.000000    1.000000    3.000000  200.000000  564.000000    1.000000   \n",
       "\n",
       "          restecg     thalach       exang     oldpeak       slope          ca  \\\n",
       "count  303.000000  303.000000  303.000000  303.000000  303.000000  303.000000   \n",
       "mean     0.528053  149.646865    0.326733    1.039604    1.399340    0.729373   \n",
       "std      0.525860   22.905161    0.469794    1.161075    0.616226    1.022606   \n",
       "min      0.000000   71.000000    0.000000    0.000000    0.000000    0.000000   \n",
       "25%      0.000000  133.500000    0.000000    0.000000    1.000000    0.000000   \n",
       "50%      1.000000  153.000000    0.000000    0.800000    1.000000    0.000000   \n",
       "75%      1.000000  166.000000    1.000000    1.600000    2.000000    1.000000   \n",
       "max      2.000000  202.000000    1.000000    6.200000    2.000000    4.000000   \n",
       "\n",
       "             thal      target  \n",
       "count  303.000000  303.000000  \n",
       "mean     2.313531    0.544554  \n",
       "std      0.612277    0.498835  \n",
       "min      0.000000    0.000000  \n",
       "25%      2.000000    0.000000  \n",
       "50%      2.000000    1.000000  \n",
       "75%      3.000000    1.000000  \n",
       "max      3.000000    1.000000  "
      ]
     },
     "execution_count": 5,
     "metadata": {},
     "output_type": "execute_result"
    }
   ],
   "source": [
    "df.describe()"
   ]
  },
  {
   "cell_type": "markdown",
   "metadata": {},
   "source": [
    "## Missing data\n",
    "Fortunately there are no missing values - this decreases the complexity of preprocessing stage."
   ]
  },
  {
   "cell_type": "code",
   "execution_count": 6,
   "metadata": {
    "scrolled": true
   },
   "outputs": [
    {
     "data": {
      "text/plain": [
       "age         0\n",
       "sex         0\n",
       "cp          0\n",
       "trestbps    0\n",
       "chol        0\n",
       "fbs         0\n",
       "restecg     0\n",
       "thalach     0\n",
       "exang       0\n",
       "oldpeak     0\n",
       "slope       0\n",
       "ca          0\n",
       "thal        0\n",
       "target      0\n",
       "dtype: int64"
      ]
     },
     "execution_count": 6,
     "metadata": {},
     "output_type": "execute_result"
    }
   ],
   "source": [
    "df.isnull().sum()"
   ]
  },
  {
   "cell_type": "markdown",
   "metadata": {},
   "source": [
    "## Dataset analysis"
   ]
  },
  {
   "cell_type": "code",
   "execution_count": 7,
   "metadata": {},
   "outputs": [
    {
     "name": "stdout",
     "output_type": "stream",
     "text": [
      "Number of patients with a disease: 165\n",
      "Number of patients with no disease: 138\n"
     ]
    }
   ],
   "source": [
    "diseaseNumber = len(df[df['target'] == 1])\n",
    "noDiseaseNumber = len(df[df['target'] == 0])\n",
    "\n",
    "print(f'Number of patients with a disease: {diseaseNumber}')\n",
    "print(f'Number of patients with no disease: {noDiseaseNumber}')"
   ]
  },
  {
   "cell_type": "markdown",
   "metadata": {},
   "source": [
    "### Dependencies between various attributes"
   ]
  },
  {
   "cell_type": "code",
   "execution_count": 8,
   "metadata": {
    "scrolled": true
   },
   "outputs": [
    {
     "data": {
      "image/png": "[encoded data removed]",
      "text/plain": [
       "<Figure size 576x288 with 1 Axes>"
      ]
     },
     "metadata": {
      "needs_background": "light"
     },
     "output_type": "display_data"
    }
   ],
   "source": [
    "plt.figure(figsize=(8,4))\n",
    "sns.countplot(x='target', data=df)\n",
    "plt.title('Number of patitents with and without a disease')\n",
    "plt.xlabel('Target: 0 - no disease, 1 - disease')\n",
    "plt.show() # required since lack of this command shows the ouput of plt.title(...)"
   ]
  },
  {
   "cell_type": "code",
   "execution_count": 9,
   "metadata": {},
   "outputs": [
    {
     "data": {
      "image/png": "[encoded data removed]",
      "text/plain": [
       "<Figure size 576x432 with 1 Axes>"
      ]
     },
     "metadata": {},
     "output_type": "display_data"
    }
   ],
   "source": [
    "plt.figure(figsize=(8,6))\n",
    "male = len(df[df['sex'] == 1])\n",
    "female = len(df[df['sex'] == 0])\n",
    "categories=[male, female]\n",
    "labels = ['Male', 'Female']\n",
    "plt.pie(categories, labels=labels, autopct='%1.1f%%', startangle=60)\n",
    "plt.title('Sex distribution')\n",
    "plt.show() # required since lack of this command shows previous ouputs"
   ]
  },
  {
   "cell_type": "code",
   "execution_count": 10,
   "metadata": {
    "scrolled": true
   },
   "outputs": [
    {
     "data": {
      "image/png": "[encoded data removed]",
      "text/plain": [
       "<Figure size 576x288 with 1 Axes>"
      ]
     },
     "metadata": {
      "needs_background": "light"
     },
     "output_type": "display_data"
    }
   ],
   "source": [
    "plt.figure(figsize=(8,4))\n",
    "sns.countplot(x='target', hue='sex', data=df)\n",
    "plt.xlabel('Sex: 0 - female, 1 - male')\n",
    "plt.title('Disease distribution among sexes')\n",
    "plt.show()"
   ]
  },
  {
   "cell_type": "markdown",
   "metadata": {},
   "source": [
    "### Age\n",
    "It seems that the highest incidence is among 40-45 and 50-60 year olds."
   ]
  },
  {
   "cell_type": "code",
   "execution_count": 56,
   "metadata": {
    "scrolled": false
   },
   "outputs": [
    {
     "data": {
      "text/plain": [
       "<matplotlib.legend.Legend at 0x7f6148859f98>"
      ]
     },
     "execution_count": 56,
     "metadata": {},
     "output_type": "execute_result"
    },
    {
     "data": {
      "image/png": "[encoded data removed]",
      "text/plain": [
       "<Figure size 864x432 with 1 Axes>"
      ]
     },
     "metadata": {
      "needs_background": "light"
     },
     "output_type": "display_data"
    }
   ],
   "source": [
    "disease = df[df['target'] == 1]\n",
    "no_disease = df[df['target'] == 0]\n",
    "\n",
    "fig = plt.figure(figsize=(12, 6))\n",
    "sns.distplot(disease['age'], bins=50, color='red', label='Disease')\n",
    "sns.distplot(no_disease['age'], bins=50, label='No Disease')\n",
    "plt.legend()"
   ]
  },
  {
   "cell_type": "code",
   "execution_count": 12,
   "metadata": {},
   "outputs": [
    {
     "data": {
      "text/plain": [
       "2    166\n",
       "3    117\n",
       "1     18\n",
       "0      2\n",
       "Name: thal, dtype: int64"
      ]
     },
     "execution_count": 12,
     "metadata": {},
     "output_type": "execute_result"
    }
   ],
   "source": [
    "df['thal'].value_counts()"
   ]
  },
  {
   "cell_type": "markdown",
   "metadata": {},
   "source": [
    "### Chest Pain Type\n",
    "Most of the time chest pain of type 2 means that a person is ill.   \n",
    "In case of type 1 the dependence is opposite - in over 100 of 140 cases a person with this pain had no disease."
   ]
  },
  {
   "cell_type": "code",
   "execution_count": 13,
   "metadata": {
    "scrolled": false
   },
   "outputs": [
    {
     "data": {
      "image/png": "[encoded data removed]",
      "text/plain": [
       "<Figure size 576x288 with 1 Axes>"
      ]
     },
     "metadata": {
      "needs_background": "light"
     },
     "output_type": "display_data"
    }
   ],
   "source": [
    "plt.figure(figsize=(8,4))\n",
    "sns.countplot(x='cp', hue='target', data=df)\n",
    "plt.xlabel('Chest Pain Type')\n",
    "plt.show()"
   ]
  },
  {
   "cell_type": "markdown",
   "metadata": {},
   "source": [
    "### Heart Rate"
   ]
  },
  {
   "cell_type": "code",
   "execution_count": null,
   "metadata": {},
   "outputs": [],
   "source": [
    "#scatter plot age vs "
   ]
  },
  {
   "cell_type": "markdown",
   "metadata": {},
   "source": [
    "# Data manipulation"
   ]
  },
  {
   "cell_type": "markdown",
   "metadata": {},
   "source": [
    "## Categorical features"
   ]
  },
  {
   "cell_type": "markdown",
   "metadata": {},
   "source": [
    "The approach to the categorical feature works as follows: \n",
    "1. Create dummy variables out of the available values\n",
    "2. Drop the original column\n",
    "3. Add dummy variable columns to the dataset"
   ]
  },
  {
   "cell_type": "code",
   "execution_count": 14,
   "metadata": {},
   "outputs": [],
   "source": [
    "def create_categorical_feature(df, column, prefix=None):\n",
    "    if prefix is None: \n",
    "        prefix = column\n",
    "    categorical = pd.get_dummies(df[column], prefix=prefix)\n",
    "    df.drop(column, axis=1, inplace=True)\n",
    "    return pd.concat([df, categorical], axis=1)"
   ]
  },
  {
   "cell_type": "markdown",
   "metadata": {},
   "source": [
    "### Chest Pain Type, Thal, Slope"
   ]
  },
  {
   "cell_type": "code",
   "execution_count": 15,
   "metadata": {
    "scrolled": true
   },
   "outputs": [],
   "source": [
    "df = create_categorical_feature(df, 'cp')\n",
    "df = create_categorical_feature(df, 'thal')\n",
    "df = create_categorical_feature(df, 'slope')"
   ]
  },
  {
   "cell_type": "markdown",
   "metadata": {},
   "source": [
    "# TODO: ADD RESTECG"
   ]
  },
  {
   "cell_type": "markdown",
   "metadata": {},
   "source": [
    "### Age\n",
    "Age is a continous value, but it is better to split it into bins denoting age ranges."
   ]
  },
  {
   "cell_type": "code",
   "execution_count": 16,
   "metadata": {},
   "outputs": [
    {
     "data": {
      "text/plain": [
       "51-60     129\n",
       "41-50      76\n",
       "61-70      73\n",
       "31-40      18\n",
       "71-80       6\n",
       "21-30       1\n",
       "81-100      0\n",
       "0-20        0\n",
       "Name: age, dtype: int64"
      ]
     },
     "execution_count": 16,
     "metadata": {},
     "output_type": "execute_result"
    }
   ],
   "source": [
    "bins = [0, 20, 30, 40, 50, 60, 70, 80, 100]\n",
    "group_names = ['0-20', '21-30', '31-40', '41-50', '51-60', '61-70', '71-80', '81-100']\n",
    "age_categories = pd.cut(df['age'], bins, labels=group_names)\n",
    "age_categories.value_counts()"
   ]
  },
  {
   "cell_type": "markdown",
   "metadata": {},
   "source": [
    "## Split the set into attributes and target"
   ]
  },
  {
   "cell_type": "code",
   "execution_count": 17,
   "metadata": {},
   "outputs": [],
   "source": [
    "X = df.drop('target', axis=1)\n",
    "y = df['target']"
   ]
  },
  {
   "cell_type": "markdown",
   "metadata": {},
   "source": [
    "## Feature scaling\n",
    "It is a good idea to perform feature scaling.\n",
    "* Increases performance of algorithms like SVM and Neural Networks.\n",
    "* Computations take less time."
   ]
  },
  {
   "cell_type": "code",
   "execution_count": 18,
   "metadata": {
    "scrolled": true
   },
   "outputs": [],
   "source": [
    "scaler = StandardScaler()\n",
    "X = scaler.fit_transform(X)"
   ]
  },
  {
   "cell_type": "markdown",
   "metadata": {},
   "source": [
    "## Create train / test dataset"
   ]
  },
  {
   "cell_type": "code",
   "execution_count": 19,
   "metadata": {},
   "outputs": [],
   "source": [
    "X_train, X_test, y_train, y_test = train_test_split(X, y, test_size=0.33, random_state=100)"
   ]
  },
  {
   "cell_type": "markdown",
   "metadata": {},
   "source": [
    "# Models\n",
    "The following models will be used in the task: \n",
    "* Logistic Regression\n",
    "* Support Vector Machine\n",
    "* Random Forest\n",
    "* Simple Neural Network\n",
    "\n",
    "Since it is rather simple task, a Grid Search will be performed on each and every model. "
   ]
  },
  {
   "cell_type": "code",
   "execution_count": 20,
   "metadata": {},
   "outputs": [],
   "source": [
    "def measure_classifier_accuracy(classifier, X, y):\n",
    "    predictions = classifier.predict(X)\n",
    "    return accuracy_score(y, predictions), confusion_matrix(y, predictions)"
   ]
  },
  {
   "cell_type": "markdown",
   "metadata": {},
   "source": [
    "### Logistic Regression"
   ]
  },
  {
   "cell_type": "code",
   "execution_count": 29,
   "metadata": {
    "scrolled": true
   },
   "outputs": [],
   "source": [
    "parameters = {\n",
    "    'C': [0.001, 0.01, 0.05, 0.1, 0.5, 1.0, 5.0, 10., 100.],\n",
    "    'penalty': ['l1', 'l2'],\n",
    "    'solver': ['liblinear', 'saga'],\n",
    "    'max_iter': [5000, 10000]\n",
    "}\n",
    "\n",
    "grid_logistic_regression = GridSearchCV(LogisticRegression(), parameters, cv=10, n_jobs=-1, iid=True)\n",
    "grid_logistic_regression.fit(X_train, y_train)\n",
    "\n",
    "logistic_regression = grid_logistic_regression.best_estimator_\n",
    "logistic_regression_accuracy, cm_logistic_regression = measure_classifier_accuracy(logistic_regression, X_test, y_test)"
   ]
  },
  {
   "cell_type": "markdown",
   "metadata": {},
   "source": [
    "### Support Vector Machine"
   ]
  },
  {
   "cell_type": "code",
   "execution_count": 30,
   "metadata": {},
   "outputs": [],
   "source": [
    "parameters = {\n",
    "    'C': [0.001, 0.01, 0.1, 1.0, 5.0, 10., 100.],\n",
    "    'kernel': ['rbf', 'linear', 'sigmoid', 'poly'],\n",
    "    'gamma': ['auto', 'scale']\n",
    "}\n",
    "\n",
    "grid_svm = GridSearchCV(svm.SVC(), parameters, cv=10, iid=True, n_jobs=-1)\n",
    "grid_svm.fit(X_train, y_train)\n",
    "\n",
    "SVM = grid_svm.best_estimator_\n",
    "svm_accuracy, cm_svm = measure_classifier_accuracy(SVM, X_test, y_test)"
   ]
  },
  {
   "cell_type": "markdown",
   "metadata": {},
   "source": [
    "### Random Forest"
   ]
  },
  {
   "cell_type": "code",
   "execution_count": 31,
   "metadata": {
    "scrolled": true
   },
   "outputs": [],
   "source": [
    "parameters = {\n",
    "    'n_estimators': [10, 100, 300, 500],\n",
    "    'max_depth': [None, 20] + list(np.arange(2, 10)),\n",
    "    'max_features': ['auto', 0.5, None]\n",
    "}\n",
    "\n",
    "grid_random_forest = GridSearchCV(RandomForestClassifier(), parameters, cv=10, n_jobs=-1, iid=True)\n",
    "grid_random_forest.fit(X_train, y_train)\n",
    "\n",
    "random_forest = grid_random_forest.best_estimator_\n",
    "random_forest_accuracy, cm_random_forest = measure_classifier_accuracy(random_forest, X_test, y_test)"
   ]
  },
  {
   "cell_type": "markdown",
   "metadata": {},
   "source": [
    "### Simple Neural Network\n",
    "\n",
    "A simple Artificial Neural Network for binary classification.\n",
    "\n",
    "Since GridSearch was also applied to this model, it had to be wrapped using `KerasClassifier`.\n",
    "GridSearch contained the following parameters:\n",
    "* batch size,\n",
    "* optimizer,\n",
    "* epochs,\n",
    "* number of hidden layers (originally the network had 3 hidden layers, but this resulted in overfitting)."
   ]
  },
  {
   "cell_type": "code",
   "execution_count": 32,
   "metadata": {},
   "outputs": [
    {
     "name": "stderr",
     "output_type": "stream",
     "text": [
      "WARNING: Logging before flag parsing goes to stderr.\n",
      "W0706 01:29:59.108056 140058752162688 deprecation_wrapper.py:119] From /home/pietrek/ML/CNN/venv/lib/python3.6/site-packages/keras/backend/tensorflow_backend.py:74: The name tf.get_default_graph is deprecated. Please use tf.compat.v1.get_default_graph instead.\n",
      "\n",
      "W0706 01:29:59.146670 140058752162688 deprecation_wrapper.py:119] From /home/pietrek/ML/CNN/venv/lib/python3.6/site-packages/keras/optimizers.py:790: The name tf.train.Optimizer is deprecated. Please use tf.compat.v1.train.Optimizer instead.\n",
      "\n",
      "W0706 01:29:59.168583 140058752162688 deprecation_wrapper.py:119] From /home/pietrek/ML/CNN/venv/lib/python3.6/site-packages/keras/backend/tensorflow_backend.py:517: The name tf.placeholder is deprecated. Please use tf.compat.v1.placeholder instead.\n",
      "\n",
      "W0706 01:29:59.171412 140058752162688 deprecation_wrapper.py:119] From /home/pietrek/ML/CNN/venv/lib/python3.6/site-packages/keras/backend/tensorflow_backend.py:4138: The name tf.random_uniform is deprecated. Please use tf.random.uniform instead.\n",
      "\n",
      "W0706 01:29:59.248061 140058752162688 deprecation_wrapper.py:119] From /home/pietrek/ML/CNN/venv/lib/python3.6/site-packages/keras/backend/tensorflow_backend.py:3376: The name tf.log is deprecated. Please use tf.math.log instead.\n",
      "\n",
      "W0706 01:29:59.257183 140058752162688 deprecation.py:323] From /home/pietrek/ML/CNN/venv/lib/python3.6/site-packages/tensorflow/python/ops/nn_impl.py:180: add_dispatch_support.<locals>.wrapper (from tensorflow.python.ops.array_ops) is deprecated and will be removed in a future version.\n",
      "Instructions for updating:\n",
      "Use tf.where in 2.0, which has the same broadcast rule as np.where\n",
      "W0706 01:29:59.434280 140058752162688 deprecation_wrapper.py:119] From /home/pietrek/ML/CNN/venv/lib/python3.6/site-packages/keras/backend/tensorflow_backend.py:986: The name tf.assign_add is deprecated. Please use tf.compat.v1.assign_add instead.\n",
      "\n"
     ]
    },
    {
     "name": "stdout",
     "output_type": "stream",
     "text": [
      "Epoch 1/300\n",
      "203/203 [==============================] - 0s 1ms/step - loss: 0.7137 - acc: 0.5567\n",
      "Epoch 2/300\n",
      "203/203 [==============================] - 0s 68us/step - loss: 0.7029 - acc: 0.5567\n",
      "Epoch 3/300\n",
      "203/203 [==============================] - 0s 60us/step - loss: 0.6922 - acc: 0.5567\n",
      "Epoch 4/300\n",
      "203/203 [==============================] - 0s 103us/step - loss: 0.6844 - acc: 0.5567\n",
      "Epoch 5/300\n",
      "203/203 [==============================] - 0s 76us/step - loss: 0.6771 - acc: 0.5616\n",
      "Epoch 6/300\n",
      "203/203 [==============================] - 0s 48us/step - loss: 0.6703 - acc: 0.5616\n",
      "Epoch 7/300\n",
      "203/203 [==============================] - 0s 43us/step - loss: 0.6637 - acc: 0.5665\n",
      "Epoch 8/300\n",
      "203/203 [==============================] - 0s 75us/step - loss: 0.6578 - acc: 0.5665\n",
      "Epoch 9/300\n",
      "203/203 [==============================] - 0s 44us/step - loss: 0.6523 - acc: 0.5665\n",
      "Epoch 10/300\n",
      "203/203 [==============================] - 0s 43us/step - loss: 0.6468 - acc: 0.5665\n",
      "Epoch 11/300\n",
      "203/203 [==============================] - 0s 42us/step - loss: 0.6416 - acc: 0.5665\n",
      "Epoch 12/300\n",
      "203/203 [==============================] - 0s 42us/step - loss: 0.6367 - acc: 0.5665\n",
      "Epoch 13/300\n",
      "203/203 [==============================] - 0s 45us/step - loss: 0.6317 - acc: 0.5616\n",
      "Epoch 14/300\n",
      "203/203 [==============================] - 0s 39us/step - loss: 0.6270 - acc: 0.5567\n",
      "Epoch 15/300\n",
      "203/203 [==============================] - 0s 52us/step - loss: 0.6227 - acc: 0.5714\n",
      "Epoch 16/300\n",
      "203/203 [==============================] - 0s 39us/step - loss: 0.6181 - acc: 0.5714\n",
      "Epoch 17/300\n",
      "203/203 [==============================] - 0s 51us/step - loss: 0.6140 - acc: 0.5714\n",
      "Epoch 18/300\n",
      "203/203 [==============================] - 0s 39us/step - loss: 0.6102 - acc: 0.5764\n",
      "Epoch 19/300\n",
      "203/203 [==============================] - 0s 45us/step - loss: 0.6059 - acc: 0.5862\n",
      "Epoch 20/300\n",
      "203/203 [==============================] - 0s 40us/step - loss: 0.6021 - acc: 0.5862\n",
      "Epoch 21/300\n",
      "203/203 [==============================] - 0s 46us/step - loss: 0.5981 - acc: 0.5862\n",
      "Epoch 22/300\n",
      "203/203 [==============================] - 0s 43us/step - loss: 0.5946 - acc: 0.6010\n",
      "Epoch 23/300\n",
      "203/203 [==============================] - 0s 43us/step - loss: 0.5910 - acc: 0.6059\n",
      "Epoch 24/300\n",
      "203/203 [==============================] - 0s 49us/step - loss: 0.5873 - acc: 0.6059\n",
      "Epoch 25/300\n",
      "203/203 [==============================] - 0s 65us/step - loss: 0.5837 - acc: 0.6256\n",
      "Epoch 26/300\n",
      "203/203 [==============================] - 0s 66us/step - loss: 0.5805 - acc: 0.6404\n",
      "Epoch 27/300\n",
      "203/203 [==============================] - 0s 47us/step - loss: 0.5769 - acc: 0.6453\n",
      "Epoch 28/300\n",
      "203/203 [==============================] - 0s 33us/step - loss: 0.5737 - acc: 0.6502\n",
      "Epoch 29/300\n",
      "203/203 [==============================] - 0s 57us/step - loss: 0.5708 - acc: 0.6650\n",
      "Epoch 30/300\n",
      "203/203 [==============================] - 0s 34us/step - loss: 0.5678 - acc: 0.6700\n",
      "Epoch 31/300\n",
      "203/203 [==============================] - 0s 82us/step - loss: 0.5647 - acc: 0.6700\n",
      "Epoch 32/300\n",
      "203/203 [==============================] - 0s 35us/step - loss: 0.5618 - acc: 0.6798\n",
      "Epoch 33/300\n",
      "203/203 [==============================] - 0s 47us/step - loss: 0.5588 - acc: 0.6847\n",
      "Epoch 34/300\n",
      "203/203 [==============================] - 0s 42us/step - loss: 0.5558 - acc: 0.6847\n",
      "Epoch 35/300\n",
      "203/203 [==============================] - 0s 45us/step - loss: 0.5531 - acc: 0.6946\n",
      "Epoch 36/300\n",
      "203/203 [==============================] - 0s 36us/step - loss: 0.5500 - acc: 0.7044\n",
      "Epoch 37/300\n",
      "203/203 [==============================] - 0s 45us/step - loss: 0.5473 - acc: 0.7044\n",
      "Epoch 38/300\n",
      "203/203 [==============================] - 0s 47us/step - loss: 0.5445 - acc: 0.7094\n",
      "Epoch 39/300\n",
      "203/203 [==============================] - 0s 39us/step - loss: 0.5417 - acc: 0.7094\n",
      "Epoch 40/300\n",
      "203/203 [==============================] - 0s 31us/step - loss: 0.5391 - acc: 0.7241\n",
      "Epoch 41/300\n",
      "203/203 [==============================] - 0s 56us/step - loss: 0.5366 - acc: 0.7291\n",
      "Epoch 42/300\n",
      "203/203 [==============================] - 0s 35us/step - loss: 0.5342 - acc: 0.7143\n",
      "Epoch 43/300\n",
      "203/203 [==============================] - 0s 38us/step - loss: 0.5317 - acc: 0.7192\n",
      "Epoch 44/300\n",
      "203/203 [==============================] - 0s 49us/step - loss: 0.5294 - acc: 0.7241\n",
      "Epoch 45/300\n",
      "203/203 [==============================] - 0s 39us/step - loss: 0.5272 - acc: 0.7291\n",
      "Epoch 46/300\n",
      "203/203 [==============================] - 0s 52us/step - loss: 0.5251 - acc: 0.7586\n",
      "Epoch 47/300\n",
      "203/203 [==============================] - 0s 29us/step - loss: 0.5228 - acc: 0.7586\n",
      "Epoch 48/300\n",
      "203/203 [==============================] - 0s 76us/step - loss: 0.5205 - acc: 0.7685\n",
      "Epoch 49/300\n",
      "203/203 [==============================] - 0s 46us/step - loss: 0.5183 - acc: 0.7685\n",
      "Epoch 50/300\n",
      "203/203 [==============================] - 0s 39us/step - loss: 0.5166 - acc: 0.7685\n",
      "Epoch 51/300\n",
      "203/203 [==============================] - 0s 56us/step - loss: 0.5146 - acc: 0.7685\n",
      "Epoch 52/300\n",
      "203/203 [==============================] - 0s 38us/step - loss: 0.5123 - acc: 0.7734\n",
      "Epoch 53/300\n",
      "203/203 [==============================] - 0s 51us/step - loss: 0.5104 - acc: 0.7734\n",
      "Epoch 54/300\n",
      "203/203 [==============================] - 0s 59us/step - loss: 0.5086 - acc: 0.7734\n",
      "Epoch 55/300\n",
      "203/203 [==============================] - 0s 39us/step - loss: 0.5070 - acc: 0.7783\n",
      "Epoch 56/300\n",
      "203/203 [==============================] - 0s 55us/step - loss: 0.5051 - acc: 0.7833\n",
      "Epoch 57/300\n",
      "203/203 [==============================] - 0s 46us/step - loss: 0.5032 - acc: 0.7882\n",
      "Epoch 58/300\n",
      "203/203 [==============================] - 0s 45us/step - loss: 0.5015 - acc: 0.7931\n",
      "Epoch 59/300\n",
      "203/203 [==============================] - 0s 33us/step - loss: 0.4996 - acc: 0.7931\n",
      "Epoch 60/300\n",
      "203/203 [==============================] - 0s 45us/step - loss: 0.4979 - acc: 0.8030\n",
      "Epoch 61/300\n",
      "203/203 [==============================] - 0s 51us/step - loss: 0.4966 - acc: 0.8030\n",
      "Epoch 62/300\n",
      "203/203 [==============================] - 0s 36us/step - loss: 0.4949 - acc: 0.7980\n",
      "Epoch 63/300\n",
      "203/203 [==============================] - 0s 79us/step - loss: 0.4931 - acc: 0.8030\n",
      "Epoch 64/300\n",
      "203/203 [==============================] - 0s 41us/step - loss: 0.4915 - acc: 0.8030\n",
      "Epoch 65/300\n",
      "203/203 [==============================] - 0s 46us/step - loss: 0.4898 - acc: 0.8128\n",
      "Epoch 66/300\n",
      "203/203 [==============================] - 0s 40us/step - loss: 0.4883 - acc: 0.8128\n",
      "Epoch 67/300\n",
      "203/203 [==============================] - 0s 47us/step - loss: 0.4865 - acc: 0.8128\n",
      "Epoch 68/300\n",
      "203/203 [==============================] - 0s 48us/step - loss: 0.4849 - acc: 0.8128\n",
      "Epoch 69/300\n",
      "203/203 [==============================] - 0s 36us/step - loss: 0.4829 - acc: 0.8177\n",
      "Epoch 70/300\n",
      "203/203 [==============================] - 0s 46us/step - loss: 0.4814 - acc: 0.8227\n",
      "Epoch 71/300\n",
      "203/203 [==============================] - 0s 37us/step - loss: 0.4795 - acc: 0.8227\n",
      "Epoch 72/300\n",
      "203/203 [==============================] - 0s 49us/step - loss: 0.4781 - acc: 0.8227\n",
      "Epoch 73/300\n",
      "203/203 [==============================] - 0s 36us/step - loss: 0.4764 - acc: 0.8227\n",
      "Epoch 74/300\n",
      "203/203 [==============================] - 0s 67us/step - loss: 0.4748 - acc: 0.8276\n",
      "Epoch 75/300\n",
      "203/203 [==============================] - 0s 46us/step - loss: 0.4733 - acc: 0.8276\n",
      "Epoch 76/300\n",
      "203/203 [==============================] - 0s 51us/step - loss: 0.4717 - acc: 0.8276\n",
      "Epoch 77/300\n",
      "203/203 [==============================] - 0s 62us/step - loss: 0.4703 - acc: 0.8276\n",
      "Epoch 78/300\n",
      "203/203 [==============================] - 0s 42us/step - loss: 0.4686 - acc: 0.8276\n",
      "Epoch 79/300\n",
      "203/203 [==============================] - 0s 37us/step - loss: 0.4670 - acc: 0.8276\n",
      "Epoch 80/300\n",
      "203/203 [==============================] - 0s 72us/step - loss: 0.4656 - acc: 0.8227\n",
      "Epoch 81/300\n",
      "203/203 [==============================] - 0s 41us/step - loss: 0.4644 - acc: 0.8227\n",
      "Epoch 82/300\n",
      "203/203 [==============================] - 0s 30us/step - loss: 0.4629 - acc: 0.8276\n",
      "Epoch 83/300\n",
      "203/203 [==============================] - 0s 70us/step - loss: 0.4616 - acc: 0.8276\n",
      "Epoch 84/300\n"
     ]
    },
    {
     "name": "stdout",
     "output_type": "stream",
     "text": [
      "203/203 [==============================] - 0s 40us/step - loss: 0.4602 - acc: 0.8276\n",
      "Epoch 85/300\n",
      "203/203 [==============================] - 0s 44us/step - loss: 0.4586 - acc: 0.8276\n",
      "Epoch 86/300\n",
      "203/203 [==============================] - 0s 43us/step - loss: 0.4573 - acc: 0.8276\n",
      "Epoch 87/300\n",
      "203/203 [==============================] - 0s 52us/step - loss: 0.4558 - acc: 0.8276\n",
      "Epoch 88/300\n",
      "203/203 [==============================] - 0s 25us/step - loss: 0.4545 - acc: 0.8276\n",
      "Epoch 89/300\n",
      "203/203 [==============================] - 0s 41us/step - loss: 0.4530 - acc: 0.8276\n",
      "Epoch 90/300\n",
      "203/203 [==============================] - 0s 31us/step - loss: 0.4516 - acc: 0.8325\n",
      "Epoch 91/300\n",
      "203/203 [==============================] - 0s 38us/step - loss: 0.4502 - acc: 0.8325\n",
      "Epoch 92/300\n",
      "203/203 [==============================] - 0s 35us/step - loss: 0.4490 - acc: 0.8325\n",
      "Epoch 93/300\n",
      "203/203 [==============================] - 0s 55us/step - loss: 0.4477 - acc: 0.8374\n",
      "Epoch 94/300\n",
      "203/203 [==============================] - 0s 29us/step - loss: 0.4463 - acc: 0.8424\n",
      "Epoch 95/300\n",
      "203/203 [==============================] - 0s 42us/step - loss: 0.4451 - acc: 0.8424\n",
      "Epoch 96/300\n",
      "203/203 [==============================] - 0s 33us/step - loss: 0.4439 - acc: 0.8424\n",
      "Epoch 97/300\n",
      "203/203 [==============================] - 0s 37us/step - loss: 0.4428 - acc: 0.8374\n",
      "Epoch 98/300\n",
      "203/203 [==============================] - 0s 44us/step - loss: 0.4417 - acc: 0.8374\n",
      "Epoch 99/300\n",
      "203/203 [==============================] - 0s 52us/step - loss: 0.4403 - acc: 0.8473\n",
      "Epoch 100/300\n",
      "203/203 [==============================] - 0s 38us/step - loss: 0.4391 - acc: 0.8473\n",
      "Epoch 101/300\n",
      "203/203 [==============================] - 0s 44us/step - loss: 0.4379 - acc: 0.8424\n",
      "Epoch 102/300\n",
      "203/203 [==============================] - 0s 35us/step - loss: 0.4368 - acc: 0.8424\n",
      "Epoch 103/300\n",
      "203/203 [==============================] - 0s 50us/step - loss: 0.4356 - acc: 0.8473\n",
      "Epoch 104/300\n",
      "203/203 [==============================] - 0s 57us/step - loss: 0.4347 - acc: 0.8473\n",
      "Epoch 105/300\n",
      "203/203 [==============================] - 0s 55us/step - loss: 0.4335 - acc: 0.8473\n",
      "Epoch 106/300\n",
      "203/203 [==============================] - 0s 91us/step - loss: 0.4323 - acc: 0.8522\n",
      "Epoch 107/300\n",
      "203/203 [==============================] - 0s 53us/step - loss: 0.4308 - acc: 0.8473\n",
      "Epoch 108/300\n",
      "203/203 [==============================] - 0s 58us/step - loss: 0.4297 - acc: 0.8522\n",
      "Epoch 109/300\n",
      "203/203 [==============================] - 0s 54us/step - loss: 0.4285 - acc: 0.8522\n",
      "Epoch 110/300\n",
      "203/203 [==============================] - 0s 52us/step - loss: 0.4271 - acc: 0.8522\n",
      "Epoch 111/300\n",
      "203/203 [==============================] - 0s 40us/step - loss: 0.4261 - acc: 0.8473\n",
      "Epoch 112/300\n",
      "203/203 [==============================] - 0s 51us/step - loss: 0.4250 - acc: 0.8473\n",
      "Epoch 113/300\n",
      "203/203 [==============================] - 0s 98us/step - loss: 0.4238 - acc: 0.8473\n",
      "Epoch 114/300\n",
      "203/203 [==============================] - 0s 97us/step - loss: 0.4225 - acc: 0.8522\n",
      "Epoch 115/300\n",
      "203/203 [==============================] - 0s 66us/step - loss: 0.4213 - acc: 0.8522\n",
      "Epoch 116/300\n",
      "203/203 [==============================] - 0s 35us/step - loss: 0.4202 - acc: 0.8522\n",
      "Epoch 117/300\n",
      "203/203 [==============================] - 0s 40us/step - loss: 0.4191 - acc: 0.8522\n",
      "Epoch 118/300\n",
      "203/203 [==============================] - 0s 44us/step - loss: 0.4179 - acc: 0.8522\n",
      "Epoch 119/300\n",
      "203/203 [==============================] - 0s 49us/step - loss: 0.4166 - acc: 0.8571\n",
      "Epoch 120/300\n",
      "203/203 [==============================] - 0s 59us/step - loss: 0.4156 - acc: 0.8571\n",
      "Epoch 121/300\n",
      "203/203 [==============================] - 0s 39us/step - loss: 0.4144 - acc: 0.8571\n",
      "Epoch 122/300\n",
      "203/203 [==============================] - 0s 39us/step - loss: 0.4131 - acc: 0.8571\n",
      "Epoch 123/300\n",
      "203/203 [==============================] - 0s 47us/step - loss: 0.4121 - acc: 0.8522\n",
      "Epoch 124/300\n",
      "203/203 [==============================] - 0s 83us/step - loss: 0.4112 - acc: 0.8621\n",
      "Epoch 125/300\n",
      "203/203 [==============================] - 0s 35us/step - loss: 0.4098 - acc: 0.8571\n",
      "Epoch 126/300\n",
      "203/203 [==============================] - 0s 37us/step - loss: 0.4088 - acc: 0.8621\n",
      "Epoch 127/300\n",
      "203/203 [==============================] - 0s 45us/step - loss: 0.4077 - acc: 0.8621\n",
      "Epoch 128/300\n",
      "203/203 [==============================] - 0s 36us/step - loss: 0.4066 - acc: 0.8621\n",
      "Epoch 129/300\n",
      "203/203 [==============================] - 0s 40us/step - loss: 0.4055 - acc: 0.8621\n",
      "Epoch 130/300\n",
      "203/203 [==============================] - 0s 42us/step - loss: 0.4043 - acc: 0.8621\n",
      "Epoch 131/300\n",
      "203/203 [==============================] - 0s 37us/step - loss: 0.4030 - acc: 0.8621\n",
      "Epoch 132/300\n",
      "203/203 [==============================] - 0s 37us/step - loss: 0.4022 - acc: 0.8621\n",
      "Epoch 133/300\n",
      "203/203 [==============================] - 0s 37us/step - loss: 0.4007 - acc: 0.8621\n",
      "Epoch 134/300\n",
      "203/203 [==============================] - 0s 50us/step - loss: 0.3996 - acc: 0.8621\n",
      "Epoch 135/300\n",
      "203/203 [==============================] - 0s 38us/step - loss: 0.3983 - acc: 0.8621\n",
      "Epoch 136/300\n",
      "203/203 [==============================] - 0s 46us/step - loss: 0.3974 - acc: 0.8621\n",
      "Epoch 137/300\n",
      "203/203 [==============================] - 0s 51us/step - loss: 0.3963 - acc: 0.8621\n",
      "Epoch 138/300\n",
      "203/203 [==============================] - 0s 38us/step - loss: 0.3949 - acc: 0.8621\n",
      "Epoch 139/300\n",
      "203/203 [==============================] - 0s 51us/step - loss: 0.3941 - acc: 0.8621\n",
      "Epoch 140/300\n",
      "203/203 [==============================] - 0s 36us/step - loss: 0.3926 - acc: 0.8621\n",
      "Epoch 141/300\n",
      "203/203 [==============================] - 0s 36us/step - loss: 0.3916 - acc: 0.8621\n",
      "Epoch 142/300\n",
      "203/203 [==============================] - 0s 47us/step - loss: 0.3906 - acc: 0.8621\n",
      "Epoch 143/300\n",
      "203/203 [==============================] - 0s 47us/step - loss: 0.3896 - acc: 0.8621\n",
      "Epoch 144/300\n",
      "203/203 [==============================] - 0s 47us/step - loss: 0.3885 - acc: 0.8621\n",
      "Epoch 145/300\n",
      "203/203 [==============================] - 0s 44us/step - loss: 0.3870 - acc: 0.8621\n",
      "Epoch 146/300\n",
      "203/203 [==============================] - 0s 43us/step - loss: 0.3862 - acc: 0.8621\n",
      "Epoch 147/300\n",
      "203/203 [==============================] - 0s 47us/step - loss: 0.3850 - acc: 0.8621\n",
      "Epoch 148/300\n",
      "203/203 [==============================] - 0s 54us/step - loss: 0.3836 - acc: 0.8621\n",
      "Epoch 149/300\n",
      "203/203 [==============================] - 0s 50us/step - loss: 0.3825 - acc: 0.8621\n",
      "Epoch 150/300\n",
      "203/203 [==============================] - 0s 70us/step - loss: 0.3814 - acc: 0.8621\n",
      "Epoch 151/300\n",
      "203/203 [==============================] - 0s 48us/step - loss: 0.3803 - acc: 0.8621\n",
      "Epoch 152/300\n",
      "203/203 [==============================] - 0s 44us/step - loss: 0.3792 - acc: 0.8621\n",
      "Epoch 153/300\n",
      "203/203 [==============================] - 0s 45us/step - loss: 0.3781 - acc: 0.8621\n",
      "Epoch 154/300\n",
      "203/203 [==============================] - 0s 60us/step - loss: 0.3770 - acc: 0.8621\n",
      "Epoch 155/300\n",
      "203/203 [==============================] - 0s 42us/step - loss: 0.3762 - acc: 0.8621\n",
      "Epoch 156/300\n",
      "203/203 [==============================] - 0s 47us/step - loss: 0.3749 - acc: 0.8621\n",
      "Epoch 157/300\n",
      "203/203 [==============================] - 0s 50us/step - loss: 0.3739 - acc: 0.8621\n",
      "Epoch 158/300\n",
      "203/203 [==============================] - 0s 42us/step - loss: 0.3728 - acc: 0.8621\n",
      "Epoch 159/300\n",
      "203/203 [==============================] - 0s 44us/step - loss: 0.3716 - acc: 0.8621\n",
      "Epoch 160/300\n",
      "203/203 [==============================] - 0s 46us/step - loss: 0.3709 - acc: 0.8621\n",
      "Epoch 161/300\n",
      "203/203 [==============================] - 0s 44us/step - loss: 0.3699 - acc: 0.8621\n",
      "Epoch 162/300\n",
      "203/203 [==============================] - 0s 44us/step - loss: 0.3686 - acc: 0.8621\n",
      "Epoch 163/300\n",
      "203/203 [==============================] - 0s 51us/step - loss: 0.3676 - acc: 0.8621\n",
      "Epoch 164/300\n",
      "203/203 [==============================] - 0s 42us/step - loss: 0.3667 - acc: 0.8621\n",
      "Epoch 165/300\n",
      "203/203 [==============================] - 0s 43us/step - loss: 0.3654 - acc: 0.8621\n",
      "Epoch 166/300\n",
      "203/203 [==============================] - 0s 40us/step - loss: 0.3645 - acc: 0.8621\n",
      "Epoch 167/300\n"
     ]
    },
    {
     "name": "stdout",
     "output_type": "stream",
     "text": [
      "203/203 [==============================] - 0s 74us/step - loss: 0.3633 - acc: 0.8621\n",
      "Epoch 168/300\n",
      "203/203 [==============================] - 0s 49us/step - loss: 0.3626 - acc: 0.8621\n",
      "Epoch 169/300\n",
      "203/203 [==============================] - 0s 43us/step - loss: 0.3616 - acc: 0.8670\n",
      "Epoch 170/300\n",
      "203/203 [==============================] - 0s 42us/step - loss: 0.3607 - acc: 0.8670\n",
      "Epoch 171/300\n",
      "203/203 [==============================] - 0s 51us/step - loss: 0.3595 - acc: 0.8670\n",
      "Epoch 172/300\n",
      "203/203 [==============================] - 0s 42us/step - loss: 0.3587 - acc: 0.8719\n",
      "Epoch 173/300\n",
      "203/203 [==============================] - 0s 89us/step - loss: 0.3577 - acc: 0.8670\n",
      "Epoch 174/300\n",
      "203/203 [==============================] - 0s 44us/step - loss: 0.3568 - acc: 0.8719\n",
      "Epoch 175/300\n",
      "203/203 [==============================] - 0s 66us/step - loss: 0.3559 - acc: 0.8670\n",
      "Epoch 176/300\n",
      "203/203 [==============================] - 0s 45us/step - loss: 0.3550 - acc: 0.8670\n",
      "Epoch 177/300\n",
      "203/203 [==============================] - 0s 57us/step - loss: 0.3535 - acc: 0.8670\n",
      "Epoch 178/300\n",
      "203/203 [==============================] - 0s 43us/step - loss: 0.3527 - acc: 0.8670\n",
      "Epoch 179/300\n",
      "203/203 [==============================] - 0s 57us/step - loss: 0.3515 - acc: 0.8670\n",
      "Epoch 180/300\n",
      "203/203 [==============================] - 0s 49us/step - loss: 0.3511 - acc: 0.8719\n",
      "Epoch 181/300\n",
      "203/203 [==============================] - 0s 59us/step - loss: 0.3499 - acc: 0.8670\n",
      "Epoch 182/300\n",
      "203/203 [==============================] - 0s 68us/step - loss: 0.3487 - acc: 0.8719\n",
      "Epoch 183/300\n",
      "203/203 [==============================] - 0s 47us/step - loss: 0.3478 - acc: 0.8719\n",
      "Epoch 184/300\n",
      "203/203 [==============================] - 0s 34us/step - loss: 0.3466 - acc: 0.8768\n",
      "Epoch 185/300\n",
      "203/203 [==============================] - 0s 49us/step - loss: 0.3457 - acc: 0.8818\n",
      "Epoch 186/300\n",
      "203/203 [==============================] - 0s 32us/step - loss: 0.3449 - acc: 0.8818\n",
      "Epoch 187/300\n",
      "203/203 [==============================] - 0s 70us/step - loss: 0.3437 - acc: 0.8818\n",
      "Epoch 188/300\n",
      "203/203 [==============================] - 0s 42us/step - loss: 0.3426 - acc: 0.8867\n",
      "Epoch 189/300\n",
      "203/203 [==============================] - 0s 34us/step - loss: 0.3417 - acc: 0.8867\n",
      "Epoch 190/300\n",
      "203/203 [==============================] - 0s 40us/step - loss: 0.3407 - acc: 0.8867\n",
      "Epoch 191/300\n",
      "203/203 [==============================] - 0s 64us/step - loss: 0.3396 - acc: 0.8818\n",
      "Epoch 192/300\n",
      "203/203 [==============================] - 0s 36us/step - loss: 0.3385 - acc: 0.8867\n",
      "Epoch 193/300\n",
      "203/203 [==============================] - 0s 43us/step - loss: 0.3377 - acc: 0.8867\n",
      "Epoch 194/300\n",
      "203/203 [==============================] - 0s 42us/step - loss: 0.3366 - acc: 0.8916\n",
      "Epoch 195/300\n",
      "203/203 [==============================] - 0s 40us/step - loss: 0.3356 - acc: 0.8916\n",
      "Epoch 196/300\n",
      "203/203 [==============================] - 0s 64us/step - loss: 0.3350 - acc: 0.8916\n",
      "Epoch 197/300\n",
      "203/203 [==============================] - 0s 35us/step - loss: 0.3338 - acc: 0.8916\n",
      "Epoch 198/300\n",
      "203/203 [==============================] - 0s 35us/step - loss: 0.3330 - acc: 0.8916\n",
      "Epoch 199/300\n",
      "203/203 [==============================] - ETA: 0s - loss: 0.3081 - acc: 0.875 - 0s 39us/step - loss: 0.3322 - acc: 0.8867\n",
      "Epoch 200/300\n",
      "203/203 [==============================] - 0s 40us/step - loss: 0.3313 - acc: 0.8916\n",
      "Epoch 201/300\n",
      "203/203 [==============================] - 0s 37us/step - loss: 0.3305 - acc: 0.8916\n",
      "Epoch 202/300\n",
      "203/203 [==============================] - 0s 44us/step - loss: 0.3296 - acc: 0.8916\n",
      "Epoch 203/300\n",
      "203/203 [==============================] - 0s 43us/step - loss: 0.3287 - acc: 0.8916\n",
      "Epoch 204/300\n",
      "203/203 [==============================] - 0s 46us/step - loss: 0.3277 - acc: 0.8916\n",
      "Epoch 205/300\n",
      "203/203 [==============================] - 0s 50us/step - loss: 0.3266 - acc: 0.8916\n",
      "Epoch 206/300\n",
      "203/203 [==============================] - 0s 32us/step - loss: 0.3256 - acc: 0.8916\n",
      "Epoch 207/300\n",
      "203/203 [==============================] - 0s 30us/step - loss: 0.3247 - acc: 0.8916\n",
      "Epoch 208/300\n",
      "203/203 [==============================] - 0s 39us/step - loss: 0.3238 - acc: 0.8966\n",
      "Epoch 209/300\n",
      "203/203 [==============================] - 0s 35us/step - loss: 0.3227 - acc: 0.8966\n",
      "Epoch 210/300\n",
      "203/203 [==============================] - 0s 36us/step - loss: 0.3220 - acc: 0.9015\n",
      "Epoch 211/300\n",
      "203/203 [==============================] - 0s 39us/step - loss: 0.3211 - acc: 0.9015\n",
      "Epoch 212/300\n",
      "203/203 [==============================] - 0s 42us/step - loss: 0.3202 - acc: 0.9015\n",
      "Epoch 213/300\n",
      "203/203 [==============================] - 0s 70us/step - loss: 0.3194 - acc: 0.8966\n",
      "Epoch 214/300\n",
      "203/203 [==============================] - 0s 50us/step - loss: 0.3182 - acc: 0.8966\n",
      "Epoch 215/300\n",
      "203/203 [==============================] - 0s 53us/step - loss: 0.3174 - acc: 0.8966\n",
      "Epoch 216/300\n",
      "203/203 [==============================] - 0s 41us/step - loss: 0.3163 - acc: 0.9015\n",
      "Epoch 217/300\n",
      "203/203 [==============================] - 0s 42us/step - loss: 0.3159 - acc: 0.8916\n",
      "Epoch 218/300\n",
      "203/203 [==============================] - 0s 44us/step - loss: 0.3150 - acc: 0.8966\n",
      "Epoch 219/300\n",
      "203/203 [==============================] - 0s 42us/step - loss: 0.3138 - acc: 0.8916\n",
      "Epoch 220/300\n",
      "203/203 [==============================] - 0s 63us/step - loss: 0.3130 - acc: 0.8966\n",
      "Epoch 221/300\n",
      "203/203 [==============================] - 0s 41us/step - loss: 0.3120 - acc: 0.8916\n",
      "Epoch 222/300\n",
      "203/203 [==============================] - 0s 48us/step - loss: 0.3112 - acc: 0.9015\n",
      "Epoch 223/300\n",
      "203/203 [==============================] - 0s 48us/step - loss: 0.3101 - acc: 0.8966\n",
      "Epoch 224/300\n",
      "203/203 [==============================] - 0s 43us/step - loss: 0.3092 - acc: 0.9015\n",
      "Epoch 225/300\n",
      "203/203 [==============================] - 0s 46us/step - loss: 0.3083 - acc: 0.8966\n",
      "Epoch 226/300\n",
      "203/203 [==============================] - 0s 57us/step - loss: 0.3078 - acc: 0.9015\n",
      "Epoch 227/300\n",
      "203/203 [==============================] - 0s 47us/step - loss: 0.3068 - acc: 0.9015\n",
      "Epoch 228/300\n",
      "203/203 [==============================] - 0s 39us/step - loss: 0.3059 - acc: 0.9015\n",
      "Epoch 229/300\n",
      "203/203 [==============================] - 0s 39us/step - loss: 0.3049 - acc: 0.9015\n",
      "Epoch 230/300\n",
      "203/203 [==============================] - 0s 45us/step - loss: 0.3041 - acc: 0.9015\n",
      "Epoch 231/300\n",
      "203/203 [==============================] - 0s 47us/step - loss: 0.3032 - acc: 0.9113\n",
      "Epoch 232/300\n",
      "203/203 [==============================] - 0s 44us/step - loss: 0.3025 - acc: 0.9113\n",
      "Epoch 233/300\n",
      "203/203 [==============================] - 0s 45us/step - loss: 0.3013 - acc: 0.9113\n",
      "Epoch 234/300\n",
      "203/203 [==============================] - 0s 40us/step - loss: 0.3003 - acc: 0.9113\n",
      "Epoch 235/300\n",
      "203/203 [==============================] - 0s 45us/step - loss: 0.2996 - acc: 0.9064\n",
      "Epoch 236/300\n",
      "203/203 [==============================] - 0s 35us/step - loss: 0.2984 - acc: 0.9113\n",
      "Epoch 237/300\n",
      "203/203 [==============================] - 0s 87us/step - loss: 0.2976 - acc: 0.9113\n",
      "Epoch 238/300\n",
      "203/203 [==============================] - 0s 52us/step - loss: 0.2970 - acc: 0.9113\n",
      "Epoch 239/300\n",
      "203/203 [==============================] - 0s 46us/step - loss: 0.2960 - acc: 0.9163\n",
      "Epoch 240/300\n",
      "203/203 [==============================] - 0s 46us/step - loss: 0.2951 - acc: 0.9113\n",
      "Epoch 241/300\n",
      "203/203 [==============================] - 0s 50us/step - loss: 0.2940 - acc: 0.9113\n",
      "Epoch 242/300\n",
      "203/203 [==============================] - 0s 50us/step - loss: 0.2932 - acc: 0.9163\n",
      "Epoch 243/300\n",
      "203/203 [==============================] - 0s 41us/step - loss: 0.2927 - acc: 0.9113\n",
      "Epoch 244/300\n",
      "203/203 [==============================] - 0s 45us/step - loss: 0.2914 - acc: 0.9163\n",
      "Epoch 245/300\n",
      "203/203 [==============================] - 0s 45us/step - loss: 0.2904 - acc: 0.9113\n",
      "Epoch 246/300\n",
      "203/203 [==============================] - 0s 38us/step - loss: 0.2898 - acc: 0.9163\n",
      "Epoch 247/300\n",
      "203/203 [==============================] - 0s 35us/step - loss: 0.2890 - acc: 0.9113\n",
      "Epoch 248/300\n",
      "203/203 [==============================] - 0s 57us/step - loss: 0.2879 - acc: 0.9163\n",
      "Epoch 249/300\n"
     ]
    },
    {
     "name": "stdout",
     "output_type": "stream",
     "text": [
      "203/203 [==============================] - 0s 34us/step - loss: 0.2869 - acc: 0.9163\n",
      "Epoch 250/300\n",
      "203/203 [==============================] - 0s 42us/step - loss: 0.2862 - acc: 0.9163\n",
      "Epoch 251/300\n",
      "203/203 [==============================] - 0s 63us/step - loss: 0.2853 - acc: 0.9163\n",
      "Epoch 252/300\n",
      "203/203 [==============================] - 0s 68us/step - loss: 0.2844 - acc: 0.9163\n",
      "Epoch 253/300\n",
      "203/203 [==============================] - 0s 43us/step - loss: 0.2837 - acc: 0.9163\n",
      "Epoch 254/300\n",
      "203/203 [==============================] - 0s 40us/step - loss: 0.2827 - acc: 0.9163\n",
      "Epoch 255/300\n",
      "203/203 [==============================] - 0s 42us/step - loss: 0.2816 - acc: 0.9163\n",
      "Epoch 256/300\n",
      "203/203 [==============================] - 0s 51us/step - loss: 0.2810 - acc: 0.9163\n",
      "Epoch 257/300\n",
      "203/203 [==============================] - 0s 38us/step - loss: 0.2801 - acc: 0.9163\n",
      "Epoch 258/300\n",
      "203/203 [==============================] - 0s 54us/step - loss: 0.2789 - acc: 0.9163\n",
      "Epoch 259/300\n",
      "203/203 [==============================] - 0s 39us/step - loss: 0.2781 - acc: 0.9163\n",
      "Epoch 260/300\n",
      "203/203 [==============================] - 0s 41us/step - loss: 0.2771 - acc: 0.9163\n",
      "Epoch 261/300\n",
      "203/203 [==============================] - 0s 35us/step - loss: 0.2766 - acc: 0.9163\n",
      "Epoch 262/300\n",
      "203/203 [==============================] - 0s 45us/step - loss: 0.2755 - acc: 0.9163\n",
      "Epoch 263/300\n",
      "203/203 [==============================] - 0s 37us/step - loss: 0.2745 - acc: 0.9163\n",
      "Epoch 264/300\n",
      "203/203 [==============================] - 0s 42us/step - loss: 0.2735 - acc: 0.9163\n",
      "Epoch 265/300\n",
      "203/203 [==============================] - 0s 42us/step - loss: 0.2728 - acc: 0.9163\n",
      "Epoch 266/300\n",
      "203/203 [==============================] - 0s 37us/step - loss: 0.2718 - acc: 0.9163\n",
      "Epoch 267/300\n",
      "203/203 [==============================] - 0s 34us/step - loss: 0.2708 - acc: 0.9163\n",
      "Epoch 268/300\n",
      "203/203 [==============================] - 0s 57us/step - loss: 0.2701 - acc: 0.9163\n",
      "Epoch 269/300\n",
      "203/203 [==============================] - 0s 63us/step - loss: 0.2691 - acc: 0.9163\n",
      "Epoch 270/300\n",
      "203/203 [==============================] - 0s 33us/step - loss: 0.2683 - acc: 0.9163\n",
      "Epoch 271/300\n",
      "203/203 [==============================] - 0s 122us/step - loss: 0.2673 - acc: 0.9163\n",
      "Epoch 272/300\n",
      "203/203 [==============================] - 0s 66us/step - loss: 0.2665 - acc: 0.9163\n",
      "Epoch 273/300\n",
      "203/203 [==============================] - 0s 42us/step - loss: 0.2654 - acc: 0.9163\n",
      "Epoch 274/300\n",
      "203/203 [==============================] - 0s 39us/step - loss: 0.2650 - acc: 0.9163\n",
      "Epoch 275/300\n",
      "203/203 [==============================] - 0s 42us/step - loss: 0.2641 - acc: 0.9163\n",
      "Epoch 276/300\n",
      "203/203 [==============================] - 0s 53us/step - loss: 0.2626 - acc: 0.9163\n",
      "Epoch 277/300\n",
      "203/203 [==============================] - 0s 38us/step - loss: 0.2618 - acc: 0.9163\n",
      "Epoch 278/300\n",
      "203/203 [==============================] - 0s 39us/step - loss: 0.2611 - acc: 0.9163\n",
      "Epoch 279/300\n",
      "203/203 [==============================] - 0s 34us/step - loss: 0.2602 - acc: 0.9163\n",
      "Epoch 280/300\n",
      "203/203 [==============================] - 0s 44us/step - loss: 0.2591 - acc: 0.9163\n",
      "Epoch 281/300\n",
      "203/203 [==============================] - 0s 38us/step - loss: 0.2581 - acc: 0.9163\n",
      "Epoch 282/300\n",
      "203/203 [==============================] - 0s 38us/step - loss: 0.2575 - acc: 0.9163\n",
      "Epoch 283/300\n",
      "203/203 [==============================] - 0s 45us/step - loss: 0.2561 - acc: 0.9163\n",
      "Epoch 284/300\n",
      "203/203 [==============================] - 0s 40us/step - loss: 0.2557 - acc: 0.9163\n",
      "Epoch 285/300\n",
      "203/203 [==============================] - 0s 39us/step - loss: 0.2545 - acc: 0.9163\n",
      "Epoch 286/300\n",
      "203/203 [==============================] - 0s 45us/step - loss: 0.2535 - acc: 0.9163\n",
      "Epoch 287/300\n",
      "203/203 [==============================] - 0s 58us/step - loss: 0.2531 - acc: 0.9163\n",
      "Epoch 288/300\n",
      "203/203 [==============================] - 0s 54us/step - loss: 0.2524 - acc: 0.9163\n",
      "Epoch 289/300\n",
      "203/203 [==============================] - 0s 34us/step - loss: 0.2509 - acc: 0.9163\n",
      "Epoch 290/300\n",
      "203/203 [==============================] - 0s 45us/step - loss: 0.2504 - acc: 0.9163\n",
      "Epoch 291/300\n",
      "203/203 [==============================] - 0s 41us/step - loss: 0.2493 - acc: 0.9163\n",
      "Epoch 292/300\n",
      "203/203 [==============================] - 0s 38us/step - loss: 0.2487 - acc: 0.9163\n",
      "Epoch 293/300\n",
      "203/203 [==============================] - 0s 48us/step - loss: 0.2477 - acc: 0.9163\n",
      "Epoch 294/300\n",
      "203/203 [==============================] - 0s 59us/step - loss: 0.2467 - acc: 0.9163\n",
      "Epoch 295/300\n",
      "203/203 [==============================] - 0s 42us/step - loss: 0.2456 - acc: 0.9163\n",
      "Epoch 296/300\n",
      "203/203 [==============================] - 0s 64us/step - loss: 0.2448 - acc: 0.9212\n",
      "Epoch 297/300\n",
      "203/203 [==============================] - 0s 35us/step - loss: 0.2436 - acc: 0.9163\n",
      "Epoch 298/300\n",
      "203/203 [==============================] - 0s 42us/step - loss: 0.2428 - acc: 0.9163\n",
      "Epoch 299/300\n",
      "203/203 [==============================] - 0s 43us/step - loss: 0.2417 - acc: 0.9163\n",
      "Epoch 300/300\n",
      "203/203 [==============================] - 0s 60us/step - loss: 0.2409 - acc: 0.9163\n"
     ]
    }
   ],
   "source": [
    "def create_model(no_of_input_nodes=21, no_of_hidden_layers=1, activation_function='relu', optimizer='adam'):\n",
    "    model = Sequential()\n",
    "    model.add(Dense(no_of_input_nodes, activation=activation_function))\n",
    "    for i in range(1, no_of_hidden_layers+1):\n",
    "        model.add(Dense(no_of_input_nodes // (2*i), activation=activation_function))\n",
    "    model.add(Dense(1, activation='sigmoid'))\n",
    "    model.compile(loss='binary_crossentropy', optimizer=optimizer, metrics=['accuracy'])\n",
    "    return model\n",
    "\n",
    "parameters = {\n",
    "    'epochs': [300, 500],\n",
    "    'batch_size': [32, 64],\n",
    "    'optimizer': ['Adam', 'SGD'],\n",
    "    'no_of_hidden_layers': [1, 2, 3]\n",
    "}\n",
    "\n",
    "neural_net = KerasClassifier(build_fn=create_model)\n",
    "grid_neural_network = GridSearchCV(neural_net, parameters, cv=10, n_jobs=-1, iid=True, verbose=0)\n",
    "grid_neural_network.fit(X_train, y_train)\n",
    "\n",
    "keras_classifier = grid_neural_network.best_estimator_"
   ]
  },
  {
   "cell_type": "code",
   "execution_count": 33,
   "metadata": {},
   "outputs": [],
   "source": [
    "neural_network_accuracy, cm_neural_network = measure_classifier_accuracy(keras_classifier, X_test, y_test)"
   ]
  },
  {
   "cell_type": "markdown",
   "metadata": {},
   "source": [
    "# Model efficiency comparison"
   ]
  },
  {
   "cell_type": "markdown",
   "metadata": {},
   "source": [
    "## Confusion Matrices comparison"
   ]
  },
  {
   "cell_type": "code",
   "execution_count": 34,
   "metadata": {},
   "outputs": [
    {
     "data": {
      "text/plain": [
       "Text(0.5, 1.05, \"Classificators' Confusion Matrices\")"
      ]
     },
     "execution_count": 34,
     "metadata": {},
     "output_type": "execute_result"
    },
    {
     "data": {
      "image/png": "[encoded data removed]",
      "text/plain": [
       "<Figure size 864x720 with 8 Axes>"
      ]
     },
     "metadata": {
      "needs_background": "light"
     },
     "output_type": "display_data"
    }
   ],
   "source": [
    "fig, ax = plt.subplots(2, 2, figsize=(12,10))\n",
    "        \n",
    "sns.heatmap(cm_svm, annot=True, ax=ax[0][0])\n",
    "ax[0][0].set_title('Support Vector Machine')\n",
    "\n",
    "sns.heatmap(cm_logistic_regression, annot=True, ax=ax[0][1])\n",
    "ax[0][1].set_title('Logistic Regression')\n",
    "\n",
    "sns.heatmap(cm_random_forest, annot=True, ax=ax[1][0])\n",
    "ax[1][0].set_title('Random Forest')\n",
    "\n",
    "sns.heatmap(cm_neural_network, annot=True, ax=ax[1][1])\n",
    "ax[1][1].set_title('Artificial Neural Network')\n",
    "\n",
    "fig.tight_layout()\n",
    "fig.suptitle('Classificators\\' Confusion Matrices', position=(.5,1.05), fontsize=20)"
   ]
  },
  {
   "cell_type": "markdown",
   "metadata": {},
   "source": [
    "## Accuracy comparison"
   ]
  },
  {
   "cell_type": "code",
   "execution_count": 35,
   "metadata": {},
   "outputs": [
    {
     "data": {
      "text/html": [
       "<div>\n",
       "<style scoped>\n",
       "    .dataframe tbody tr th:only-of-type {\n",
       "        vertical-align: middle;\n",
       "    }\n",
       "\n",
       "    .dataframe tbody tr th {\n",
       "        vertical-align: top;\n",
       "    }\n",
       "\n",
       "    .dataframe thead th {\n",
       "        text-align: right;\n",
       "    }\n",
       "</style>\n",
       "<table border=\"1\" class=\"dataframe\">\n",
       "  <thead>\n",
       "    <tr style=\"text-align: right;\">\n",
       "      <th></th>\n",
       "      <th>Model</th>\n",
       "      <th>Score</th>\n",
       "    </tr>\n",
       "  </thead>\n",
       "  <tbody>\n",
       "    <tr>\n",
       "      <th>0</th>\n",
       "      <td>Random Forest</td>\n",
       "      <td>0.87</td>\n",
       "    </tr>\n",
       "    <tr>\n",
       "      <th>1</th>\n",
       "      <td>SVM</td>\n",
       "      <td>0.86</td>\n",
       "    </tr>\n",
       "    <tr>\n",
       "      <th>2</th>\n",
       "      <td>Logistic Regression</td>\n",
       "      <td>0.89</td>\n",
       "    </tr>\n",
       "    <tr>\n",
       "      <th>3</th>\n",
       "      <td>Neural Network</td>\n",
       "      <td>0.84</td>\n",
       "    </tr>\n",
       "  </tbody>\n",
       "</table>\n",
       "</div>"
      ],
      "text/plain": [
       "                 Model  Score\n",
       "0        Random Forest   0.87\n",
       "1                  SVM   0.86\n",
       "2  Logistic Regression   0.89\n",
       "3       Neural Network   0.84"
      ]
     },
     "execution_count": 35,
     "metadata": {},
     "output_type": "execute_result"
    }
   ],
   "source": [
    "results = [\n",
    "    ['Random Forest', random_forest_accuracy],\n",
    "    ['SVM', svm_accuracy],\n",
    "    ['Logistic Regression', logistic_regression_accuracy],\n",
    "    ['Neural Network', neural_network_accuracy]\n",
    "]\n",
    "\n",
    "results = pd.DataFrame(data=results, columns=['Model', 'Score'])\n",
    "results"
   ]
  },
  {
   "cell_type": "code",
   "execution_count": 36,
   "metadata": {},
   "outputs": [
    {
     "data": {
      "image/png": "[encoded data removed]",
      "text/plain": [
       "<Figure size 720x432 with 1 Axes>"
      ]
     },
     "metadata": {
      "needs_background": "light"
     },
     "output_type": "display_data"
    }
   ],
   "source": [
    "plt.figure(figsize=(10, 6))\n",
    "plot = sns.barplot(x='Model', y='Score', data=results)\n",
    "plot.set(ylim=(0, 1))\n",
    "plt.show()"
   ]
  },
  {
   "cell_type": "markdown",
   "metadata": {},
   "source": [
    "### The results show that the best classifier for this task is Logistic Regression that scored accuracy =  0.89."
   ]
  }
 ],
 "metadata": {
  "kernelspec": {
   "display_name": "Python 3",
   "language": "python",
   "name": "python3"
  },
  "language_info": {
   "codemirror_mode": {
    "name": "ipython",
    "version": 3
   },
   "file_extension": ".py",
   "mimetype": "text/x-python",
   "name": "python",
   "nbconvert_exporter": "python",
   "pygments_lexer": "ipython3",
   "version": "3.6.6"
  }
 },
 "nbformat": 4,
 "nbformat_minor": 2
}
